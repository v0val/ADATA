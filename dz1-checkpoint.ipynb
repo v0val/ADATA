{
 "cells": [
  {
   "cell_type": "markdown",
   "id": "5dd35bae",
   "metadata": {},
   "source": [
    "## Задание 2"
   ]
  },
  {
   "cell_type": "markdown",
   "id": "f0ef0745",
   "metadata": {},
   "source": [
    "На складе лежат разные фрукты в разном количестве.\n",
    "Нужно написать функцию, которая на вход принимает любое количество названий фруктов и их количество, а возвращает общее количество фруктов на складе"
   ]
  },
  {
   "cell_type": "code",
   "execution_count": 4,
   "id": "fdf6e816",
   "metadata": {},
   "outputs": [
    {
     "name": "stdout",
     "output_type": "stream",
     "text": [
      "497\n"
     ]
    }
   ],
   "source": [
    "def additi(st1):\n",
    "    return sum(st1.values()) \n",
    "stock = {'appel':120, 'pears': 235,'oranges': 142}\n",
    "print(additi(stock))"
   ]
  },
  {
   "cell_type": "markdown",
   "id": "566bfde4",
   "metadata": {},
   "source": [
    "## Задание 3"
   ]
  },
  {
   "cell_type": "markdown",
   "id": "867cd231",
   "metadata": {},
   "source": [
    "Дан список с затратами на рекламу. Но в данных есть ошибки, некоторые затраты имеют отрицательную величину. Удалите такие значения из списка и посчитайте суммарные затраты\n",
    "[100, 125, -90, 345, 655, -1, 0, 200]\n",
    "Используйте list comprehensions"
   ]
  },
  {
   "cell_type": "code",
   "execution_count": 15,
   "id": "52baa742",
   "metadata": {},
   "outputs": [
    {
     "name": "stdout",
     "output_type": "stream",
     "text": [
      "[100, 125, 345, 655, 200]\n",
      "суммарные затраты на рекламму - 1425\n"
     ]
    }
   ],
   "source": [
    "expenses = [100, 125, -90, 345, 655, -1, 0, 200]\n",
    "expenses = [x for x in expenses if x > 0]\n",
    "print(expenses)\n",
    "print('суммарные затраты на рекламму -', sum(expenses))"
   ]
  },
  {
   "cell_type": "markdown",
   "id": "6f89c1b0",
   "metadata": {},
   "source": [
    "## Задание 4"
   ]
  },
  {
   "cell_type": "markdown",
   "id": "978a455e",
   "metadata": {},
   "source": [
    "Даны два списка.\n",
    "Дата покупки\n",
    "['2021-09-14', '2021-12-15', '2021-09-08', '2021-12-05', '2021-10-09', '2021-09-30', '2021-12-22', '2021-11-29', '2021-12-24', '2021-11-26', '2021-10-27', '2021-12-18', '2021-11-09', '2021-11-23', '2021-09-27', '2021-10-02', '2021-12-27', '2021-09-20', '2021-12-13', '2021-11-01', '2021-11-09', '2021-12-06', '2021-12-08', '2021-10-09', '2021-10-31', '2021-09-30', '2021-11-09', '2021-12-13', '2021-10-26', '2021-12-09']\n",
    "Суммы покупок по датам\n",
    "[1270, 8413, 9028, 3703, 5739, 4095, 295, 4944, 5723, 3701, 4471, 651, 7037, 4274, 6275, 4988, 6930, 2971, 6592, 2004, 2822, 519, 3406, 2732, 5015, 2008, 316, 6333, 5700, 2887]"
   ]
  },
  {
   "cell_type": "code",
   "execution_count": 24,
   "id": "582698cd",
   "metadata": {},
   "outputs": [],
   "source": [
    "databuy=['2021-09-14', '2021-12-15', '2021-09-08', '2021-12-05', '2021-10-09', '2021-09-30', '2021-12-22', '2021-11-29', '2021-12-24', '2021-11-26', '2021-10-27', '2021-12-18', '2021-11-09', '2021-11-23', '2021-09-27', '2021-10-02', '2021-12-27', '2021-09-20', '2021-12-13', '2021-11-01', '2021-11-09', '2021-12-06', '2021-12-08', '2021-10-09', '2021-10-31', '2021-09-30', '2021-11-09', '2021-12-13', '2021-10-26', '2021-12-09']\n",
    "summbuy=[1270, 8413, 9028, 3703, 5739, 4095, 295, 4944, 5723, 3701, 4471, 651, 7037, 4274, 6275, 4988, 6930, 2971, 6592, 2004, 2822, 519, 3406, 2732, 5015, 2008, 316, 6333, 5700, 2887]"
   ]
  },
  {
   "cell_type": "markdown",
   "id": "5cb66baa",
   "metadata": {},
   "source": [
    "### Задание 4.1"
   ]
  },
  {
   "cell_type": "markdown",
   "id": "2784e271",
   "metadata": {},
   "source": [
    "Найдите, какая выручка у компании в ноябре\n",
    "Используйте list comprehensions"
   ]
  },
  {
   "cell_type": "code",
   "execution_count": 22,
   "id": "37e89718",
   "metadata": {},
   "outputs": [
    {
     "name": "stdout",
     "output_type": "stream",
     "text": [
      "25098\n"
     ]
    }
   ],
   "source": [
    "print(sum([summbuy[i] for i in range(len(databuy)) if databuy[i][-5:-3] == '11']))"
   ]
  },
  {
   "cell_type": "markdown",
   "id": "00e73576",
   "metadata": {},
   "source": [
    "### Задание 4.2"
   ]
  },
  {
   "cell_type": "markdown",
   "id": "a589a0df",
   "metadata": {},
   "source": [
    "Найдите выручку компании в зависимости от месяца\n",
    "Для этого напишите функцию, которая на вход принимает список с датами и список с выручкой, а на выходе словарь, где ключи - это месяцы, а значения - это выручка.\n",
    "Используйте аннотирование типов."
   ]
  },
  {
   "cell_type": "code",
   "execution_count": 31,
   "id": "97e65a02",
   "metadata": {},
   "outputs": [
    {
     "name": "stdout",
     "output_type": "stream",
     "text": [
      "{'09': 25647, '10': 28645, '11': 25098, '12': 45452}\n"
     ]
    }
   ],
   "source": [
    "def dat_revenue(list1: list, list2: list) -> dict:\n",
    "    summ09 = sum([summbuy[i] for i in range(len(databuy)) if databuy[i][-5:-3] == '09'])\n",
    "    summ10 = sum([summbuy[i] for i in range(len(databuy)) if databuy[i][-5:-3] == '10'])\n",
    "    summ11 = sum([summbuy[i] for i in range(len(databuy)) if databuy[i][-5:-3] == '11'])\n",
    "    summ12 = sum([summbuy[i] for i in range(len(databuy)) if databuy[i][-5:-3] == '12'])\n",
    "    return {'09': summ09, '10': summ10, '11': summ11, '12': summ12}\n",
    "print(dat_revenue(databuy, summbuy))"
   ]
  }
 ],
 "metadata": {
  "kernelspec": {
   "display_name": "Python 3 (ipykernel)",
   "language": "python",
   "name": "python3"
  },
  "language_info": {
   "codemirror_mode": {
    "name": "ipython",
    "version": 3
   },
   "file_extension": ".py",
   "mimetype": "text/x-python",
   "name": "python",
   "nbconvert_exporter": "python",
   "pygments_lexer": "ipython3",
   "version": "3.9.13"
  }
 },
 "nbformat": 4,
 "nbformat_minor": 5
}
